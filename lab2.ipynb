{
 "cells": [
  {
   "cell_type": "markdown",
   "metadata": {},
   "source": [
    "# Head"
   ]
  },
  {
   "cell_type": "code",
   "execution_count": 78,
   "metadata": {},
   "outputs": [],
   "source": [
    "import torch, importlib\n",
    "from torch.optim import AdamW\n",
    "from torch.optim.lr_scheduler import CosineAnnealingLR\n",
    "from transformers import GPT2Tokenizer, DistilBertTokenizer, GPT2LMHeadModel\n",
    "import matplotlib.pyplot as plt"
   ]
  },
  {
   "cell_type": "code",
   "execution_count": 79,
   "metadata": {},
   "outputs": [],
   "source": [
    "prompt = \"\\n\"\n",
    "sentence = prompt + open('Genshin Impact.txt').read().replace('\\n', ' ')\n",
    "\n",
    "model_name = \"distilbert-base-uncased\"\n",
    "bert_tokenizer = DistilBertTokenizer.from_pretrained(model_name)\n",
    "bert_inputs = bert_tokenizer(sentence, return_tensors=\"pt\", max_length = 128, truncation = True, \n",
    "                             add_special_tokens = False)\n",
    "\n",
    "model_name = \"distilgpt2\"\n",
    "gpt_tokenizer = GPT2Tokenizer.from_pretrained(model_name)\n",
    "gpt_inputs = gpt_tokenizer(sentence, return_tensors=\"pt\", max_length = 128, truncation = True)"
   ]
  },
  {
   "cell_type": "markdown",
   "metadata": {},
   "source": [
    "# Main"
   ]
  },
  {
   "cell_type": "code",
   "execution_count": null,
   "metadata": {},
   "outputs": [
    {
     "name": "stdout",
     "output_type": "stream",
     "text": [
      "epoch: 1; loss: (3.6127283573150635, 0.005113375683625539);\n",
      "epoch: 2; loss: (3.4085443019866943, 0.00807518387834231);\n",
      "epoch: 3; loss: (3.3747751712799072, 0.00529614028831323);\n",
      "epoch: 4; loss: (2.702524185180664, 0.005362549175818761);\n",
      "epoch: 5; loss: (2.239224910736084, 0.00994647853076458);\n",
      "epoch: 6; loss: (2.0090229511260986, 0.01038353517651558);\n",
      "epoch: 7; loss: (1.7497045993804932, 0.006154864405592282);\n",
      "epoch: 8; loss: (1.3401188850402832, 0.005929786711931229);\n",
      "epoch: 9; loss: (1.1326369047164917, 0.0056842391689618426);\n",
      "epoch: 10; loss: (0.9813932180404663, 0.005180810888608296);\n",
      "epoch: 11; loss: (1.1136592626571655, 0.005124591911832492);\n",
      "epoch: 12; loss: (0.7368621826171875, 0.003474247952302297);\n",
      "epoch: 13; loss: (1.2699332237243652, 0.002689758315682411);\n",
      "epoch: 14; loss: (0.6200105547904968, 0.002891318562130133);\n",
      "epoch: 15; loss: (0.5271949768066406, 0.002945307952662309);\n",
      "epoch: 16; loss: (0.5569228529930115, 0.0029155568530162177);\n",
      "epoch: 17; loss: (0.4474020004272461, 0.003261605898539225);\n",
      "epoch: 18; loss: (1.706950068473816, 0.0033991988748311996);\n",
      "epoch: 19; loss: (0.3157554864883423, 0.002629862787822882);\n",
      "epoch: 20; loss: (0.3389383554458618, 0.0022945740881065526);\n",
      "epoch: 21; loss: (2.053811550140381, 0.0022824620828032494);\n",
      "epoch: 22; loss: (0.4254797697067261, 0.00234692528222998);\n",
      "epoch: 23; loss: (0.3680720031261444, 0.0025303478663166365);\n",
      "epoch: 24; loss: (0.6002596616744995, 0.0027130028853813806);\n",
      "epoch: 25; loss: (0.30521678924560547, 0.0030546762670079866);\n",
      "epoch: 26; loss: (0.5196406841278076, 0.003352619086702665);\n",
      "epoch: 27; loss: (0.31582897901535034, 0.0034535201266407967);\n",
      "epoch: 28; loss: (0.30088138580322266, 0.003458897893627485);\n",
      "epoch: 29; loss: (0.2678562104701996, 0.0034027239307761192);\n",
      "epoch: 30; loss: (0.22861415147781372, 0.003289006029566129);\n",
      "epoch: 31; loss: (0.29482898116111755, 0.0031493393083413443);\n",
      "epoch: 32; loss: (0.2695520520210266, 0.002970515750348568);\n",
      "epoch: 33; loss: (0.2558530271053314, 0.002779104125996431);\n",
      "epoch: 34; loss: (0.27048414945602417, 0.0026118227591117225);\n",
      "epoch: 35; loss: (0.46238458156585693, 0.0024871154067416987);\n",
      "epoch: 36; loss: (0.43557870388031006, 0.0024449812869230905);\n",
      "epoch: 37; loss: (0.23195980489253998, 0.00244051202510794);\n",
      "epoch: 38; loss: (0.3737618327140808, 0.0024375890692075095);\n",
      "epoch: 39; loss: (0.21824637055397034, 0.0023991248259941735);\n",
      "epoch: 40; loss: (0.25439438223838806, 0.0023691020905971527);\n",
      "epoch: 41; loss: (0.1980300396680832, 0.0023447515753408275);\n",
      "epoch: 42; loss: (0.1787070482969284, 0.002299087898184856);\n",
      "epoch: 43; loss: (0.23055054247379303, 0.0022719628177583218);\n",
      "epoch: 44; loss: (0.21487468481063843, 0.0022460718949635825);\n",
      "epoch: 45; loss: (0.19241324067115784, 0.002223095235725244);\n",
      "epoch: 46; loss: (0.1445712298154831, 0.0022073800986011824);\n",
      "epoch: 47; loss: (0.22082015872001648, 0.0021897338641186557);\n",
      "epoch: 48; loss: (0.3626752495765686, 0.0021836054511368275);\n",
      "epoch: 49; loss: (0.18946707248687744, 0.002183998624483744);\n",
      "epoch: 50; loss: (0.18693581223487854, 0.002180280319104592);\n"
     ]
    }
   ],
   "source": [
    "import TextVAE\n",
    "importlib.reload(TextVAE)\n",
    "from TextVAE import TextVAE\n",
    "\n",
    "tvae = TextVAE()\n",
    "tvae.train()\n",
    "epochs = 50\n",
    "optim = AdamW(tvae.parameters(), 5e-4)\n",
    "scheduler = CosineAnnealingLR(optim, T_max = epochs, eta_min = 0)\n",
    "for epoch in range(epochs):\n",
    "    loss, kl_loss = tvae(bert_inputs['input_ids'], bert_inputs['attention_mask'], \n",
    "                gpt_inputs['input_ids'], gpt_inputs['attention_mask'])\n",
    "    (loss + kl_loss).backward()\n",
    "    optim.step()\n",
    "    optim.zero_grad()\n",
    "    scheduler.step()\n",
    "    print(f\"epoch: {epoch + 1}; loss: {loss.item()/128, kl_loss.item()/768/4};\")"
   ]
  },
  {
   "cell_type": "code",
   "execution_count": 143,
   "metadata": {},
   "outputs": [],
   "source": [
    "tvae.eval()\n",
    "bias = tvae(bert_inputs['input_ids'], bert_inputs['attention_mask'], do_sample = False)\n",
    "\n",
    "gpt = GPT2LMHeadModel.from_pretrained('distilgpt2')\n",
    "with torch.no_grad():\n",
    "    gpt.transformer.h[-2].mlp.c_fc.bias += bias[0,0]\n",
    "    gpt.transformer.h[-1].mlp.c_fc.bias += bias[0,1]"
   ]
  },
  {
   "cell_type": "code",
   "execution_count": 145,
   "metadata": {},
   "outputs": [
    {
     "name": "stdout",
     "output_type": "stream",
     "text": [
      "Genshin Impact: A Masterpiece in the World of Gaming,   Introduction by GHoYo in September 2010, Genshin Impact has taken the gaming world by storm. With its stunning open world, intricate lore, and stunningivating characters, this action role-playing game hasRPG) has garnered a massive global following. With article delves into what makes Genshin Impact a standout title in the crowded landscape of modern gaming. This  Masterast World Beautiful World  Released of Genshin Impact's most notable features is its stunning open world.  game takes place in the fantasy land of Teyvat, the\n",
      "15\n"
     ]
    }
   ],
   "source": [
    "with torch.no_grad():\n",
    "    tokens = gpt(gpt_inputs['input_ids'])[0][0].argmax(-1)\n",
    "print(gpt_tokenizer.decode(tokens))\n",
    "print((tokens[:-1] != gpt_inputs['input_ids'][0, 1:]).sum().item())"
   ]
  },
  {
   "cell_type": "code",
   "execution_count": 137,
   "metadata": {},
   "outputs": [
    {
     "name": "stderr",
     "output_type": "stream",
     "text": [
      "The attention mask and the pad token id were not set. As a consequence, you may observe unexpected behavior. Please pass your input's `attention_mask` to obtain reliable results.\n",
      "Setting `pad_token_id` to `eos_token_id`:50256 for open-end generation.\n"
     ]
    },
    {
     "name": "stdout",
     "output_type": "stream",
     "text": [
      "\n",
      "Genshin Impact: A Masterpiece in the World of Gaming  Introduction  Released by miHoYo in September 2020, Genshin Impact has taken the gaming world by storm. With its expansive open world, intricate lore, and captivating characters, this action role-playing game (RPG) has garnered a massive global following. This article delves into what makes Genshin Impact a standout title in the crowded landscape of modern gaming.  A Vast and Beautiful World  One of Genshin Impact's most notable features is its stunning open world. The game takes place in the fantasy land of Teyvat,\n",
      "128\n"
     ]
    }
   ],
   "source": [
    "test_ids = gpt_tokenizer(prompt, return_tensors=\"pt\").input_ids\n",
    "if torch.cuda.is_available():\n",
    "   test_ids = test_ids.to('cuda')\n",
    "\n",
    "generated_ids = gpt.generate(\n",
    "    test_ids,\n",
    "    max_length = 128,\n",
    "    num_return_sequences = 1,\n",
    "    no_repeat_ngram_size = 5,\n",
    "    num_beams = 5,\n",
    "    eos_token_id = 50256,\n",
    "    bad_words_ids = [[198]],\n",
    ")\n",
    "\n",
    "# 解码生成的文本\n",
    "generated_text = gpt_tokenizer.batch_decode(generated_ids, skip_special_tokens=True)\n",
    "print(generated_text[0])\n",
    "print(len(generated_ids[0]))"
   ]
  }
 ],
 "metadata": {
  "kernelspec": {
   "display_name": "Python 3",
   "language": "python",
   "name": "python3"
  },
  "language_info": {
   "codemirror_mode": {
    "name": "ipython",
    "version": 3
   },
   "file_extension": ".py",
   "mimetype": "text/x-python",
   "name": "python",
   "nbconvert_exporter": "python",
   "pygments_lexer": "ipython3",
   "version": "3.11.1"
  }
 },
 "nbformat": 4,
 "nbformat_minor": 2
}
